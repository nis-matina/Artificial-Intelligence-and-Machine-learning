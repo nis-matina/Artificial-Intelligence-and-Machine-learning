{
  "nbformat": 4,
  "nbformat_minor": 0,
  "metadata": {
    "colab": {
      "provenance": []
    },
    "kernelspec": {
      "name": "python3",
      "display_name": "Python 3"
    },
    "language_info": {
      "name": "python"
    }
  },
  "cells": [
    {
      "cell_type": "markdown",
      "source": [
        "Unit Conversion Program"
      ],
      "metadata": {
        "id": "UuDx1DNyiQB7"
      }
    },
    {
      "cell_type": "code",
      "execution_count": null,
      "metadata": {
        "colab": {
          "base_uri": "https://localhost:8080/"
        },
        "id": "6kl4VqXPhCtC",
        "outputId": "6a62a21c-5196-4572-e573-27f9ad331f38"
      },
      "outputs": [
        {
          "output_type": "stream",
          "name": "stdout",
          "text": [
            "Choose the conversion type:\n",
            "1. Length (Meters <-> Feet)\n",
            "2. Weight (Kilograms <-> Pounds)\n",
            "3. Volume (Liters <-> Gallons)\n",
            "Enter the number of your choice: 2\n",
            "1. Kilograms to Pounds\n",
            "2. Pounds to Kilograms\n",
            "Enter 1 or 2: 1\n",
            "Enter the value to convert: 33\n",
            "33.0 kg is 72.75 lbs\n"
          ]
        }
      ],
      "source": [
        "def meters_to_feet(meters):\n",
        "    \"\"\"Convert meters to feet.\"\"\"\n",
        "    return meters * 3.28084\n",
        "\n",
        "def feet_to_meters(feet):\n",
        "    \"\"\"Convert feet to meters.\"\"\"\n",
        "    return feet / 3.28084\n",
        "\n",
        "def kilograms_to_pounds(kg):\n",
        "    \"\"\"Convert kilograms to pounds.\"\"\"\n",
        "    return kg * 2.20462\n",
        "\n",
        "def pounds_to_kilograms(lbs):\n",
        "    \"\"\"Convert pounds to kilograms.\"\"\"\n",
        "    return lbs / 2.20462\n",
        "\n",
        "def liters_to_gallons(liters):\n",
        "    \"\"\"Convert liters to gallons.\"\"\"\n",
        "    return liters * 0.264172\n",
        "\n",
        "def gallons_to_liters(gallons):\n",
        "    \"\"\"Convert gallons to liters.\"\"\"\n",
        "    return gallons / 0.264172\n",
        "\n",
        "def unit_converter():\n",
        "    \"\"\"Main function to handle unit conversion based on user choice.\"\"\"\n",
        "    print(\"Choose the conversion type:\")\n",
        "    print(\"1. Length (Meters <-> Feet)\")\n",
        "    print(\"2. Weight (Kilograms <-> Pounds)\")\n",
        "    print(\"3. Volume (Liters <-> Gallons)\")\n",
        "\n",
        "    try:\n",
        "        choice = int(input(\"Enter the number of your choice: \"))\n",
        "\n",
        "        if choice == 1:\n",
        "            print(\"1. Meters to Feet\")\n",
        "            print(\"2. Feet to Meters\")\n",
        "            sub_choice = int(input(\"Enter 1 or 2: \"))\n",
        "\n",
        "            value = float(input(\"Enter the value to convert: \"))\n",
        "\n",
        "            if sub_choice == 1:\n",
        "                print(f\"{value} meters is {meters_to_feet(value):.2f} feet\")\n",
        "            elif sub_choice == 2:\n",
        "                print(f\"{value} feet is {feet_to_meters(value):.2f} meters\")\n",
        "            else:\n",
        "                print(\"Invalid choice.\")\n",
        "\n",
        "        elif choice == 2:\n",
        "            print(\"1. Kilograms to Pounds\")\n",
        "            print(\"2. Pounds to Kilograms\")\n",
        "            sub_choice = int(input(\"Enter 1 or 2: \"))\n",
        "\n",
        "            value = float(input(\"Enter the value to convert: \"))\n",
        "\n",
        "            if sub_choice == 1:\n",
        "                print(f\"{value} kg is {kilograms_to_pounds(value):.2f} lbs\")\n",
        "            elif sub_choice == 2:\n",
        "                print(f\"{value} lbs is {pounds_to_kilograms(value):.2f} kg\")\n",
        "            else:\n",
        "                print(\"Invalid choice.\")\n",
        "\n",
        "        elif choice == 3:\n",
        "            print(\"1. Liters to Gallons\")\n",
        "            print(\"2. Gallons to Liters\")\n",
        "            sub_choice = int(input(\"Enter 1 or 2: \"))\n",
        "\n",
        "            value = float(input(\"Enter the value to convert: \"))\n",
        "\n",
        "            if sub_choice == 1:\n",
        "                print(f\"{value} liters is {liters_to_gallons(value):.2f} gallons\")\n",
        "            elif sub_choice == 2:\n",
        "                print(f\"{value} gallons is {gallons_to_liters(value):.2f} liters\")\n",
        "            else:\n",
        "                print(\"Invalid choice.\")\n",
        "\n",
        "        else:\n",
        "            print(\"Invalid choice. Please select 1, 2, or 3.\")\n",
        "\n",
        "    except ValueError:\n",
        "        print(\"Invalid input! Please enter a number.\")\n",
        "\n",
        "# Run the function\n",
        "unit_converter()\n"
      ]
    },
    {
      "cell_type": "markdown",
      "source": [
        " Mathematical Operations on a List of Numbers"
      ],
      "metadata": {
        "id": "jVnFth4AiTTw"
      }
    },
    {
      "cell_type": "code",
      "source": [
        "def calculate_sum(numbers):\n",
        "    \"\"\"Returns the sum of a list of numbers.\"\"\"\n",
        "    return sum(numbers)\n",
        "\n",
        "def calculate_average(numbers):\n",
        "    \"\"\"Returns the average of a list of numbers.\"\"\"\n",
        "    return sum(numbers) / len(numbers) if numbers else 0  # Avoid division by zero\n",
        "\n",
        "def find_maximum(numbers):\n",
        "    \"\"\"Returns the maximum number from the list.\"\"\"\n",
        "    return max(numbers) if numbers else None\n",
        "\n",
        "def find_minimum(numbers):\n",
        "    \"\"\"Returns the minimum number from the list.\"\"\"\n",
        "    return min(numbers) if numbers else None\n",
        "def math_operations():\n",
        "    \"\"\"Main function to handle mathematical operations on a list of numbers.\"\"\"\n",
        "    print(\"Choose an operation:\")\n",
        "    print(\"1. Sum of numbers\")\n",
        "    print(\"2. Average of numbers\")\n",
        "    print(\"3. Maximum number\")\n",
        "    print(\"4. Minimum number\")\n",
        "\n",
        "    try:\n",
        "        choice = int(input(\"Enter the number of your choice: \"))\n",
        "\n",
        "        numbers = input(\"Enter a list of numbers separated by spaces: \").split()\n",
        "        numbers = [float(num) for num in numbers]  # Convert input to float list\n",
        "\n",
        "        if not numbers:\n",
        "            print(\"The list is empty! Please enter valid numbers.\")\n",
        "            return\n",
        "\n",
        "        if choice == 1:\n",
        "            print(f\"The sum is: {calculate_sum(numbers)}\")\n",
        "        elif choice == 2:\n",
        "            print(f\"The average is: {calculate_average(numbers):.2f}\")\n",
        "        elif choice == 3:\n",
        "            print(f\"The maximum number is: {find_maximum(numbers)}\")\n",
        "        elif choice == 4:\n",
        "            print(f\"The minimum number is: {find_minimum(numbers)}\")\n",
        "        else:\n",
        "            print(\"Invalid choice! Please select 1, 2, 3, or 4.\")\n",
        "\n",
        "    except ValueError:\n",
        "        print(\"Invalid input! Please enter numbers only.\")\n",
        "\n",
        "# Run the function\n",
        "math_operations()\n"
      ],
      "metadata": {
        "colab": {
          "base_uri": "https://localhost:8080/"
        },
        "id": "-dN0ZLqvhv5h",
        "outputId": "120ea05d-b33a-4e0e-a7be-dafbc482aa68"
      },
      "execution_count": null,
      "outputs": [
        {
          "output_type": "stream",
          "name": "stdout",
          "text": [
            "Choose an operation:\n",
            "1. Sum of numbers\n",
            "2. Average of numbers\n",
            "3. Maximum number\n",
            "4. Minimum number\n",
            "Enter the number of your choice: 4\n",
            "Enter a list of numbers separated by spaces: 11 33 4\n",
            "The minimum number is: 4.0\n"
          ]
        }
      ]
    },
    {
      "cell_type": "markdown",
      "source": [
        "4.2 Exercise on List Manipulation\n",
        "Extract Every Other Element\n"
      ],
      "metadata": {
        "id": "Qo5_6naHi5Ko"
      }
    },
    {
      "cell_type": "code",
      "source": [
        "def extract_every_other(lst):\n",
        "    \"\"\"Returns a new list containing every other element from the input list.\"\"\"\n",
        "    return lst[::2]\n",
        "\n",
        "# Example usage\n",
        "numbers = [1, 2, 3, 4, 5, 6]\n",
        "print(extract_every_other(numbers))\n"
      ],
      "metadata": {
        "colab": {
          "base_uri": "https://localhost:8080/"
        },
        "id": "8PTN7Ldei1ep",
        "outputId": "1dfe9f4f-64c8-416a-b1f5-233096c8010a"
      },
      "execution_count": null,
      "outputs": [
        {
          "output_type": "stream",
          "name": "stdout",
          "text": [
            "[1, 3, 5]\n"
          ]
        }
      ]
    },
    {
      "cell_type": "markdown",
      "source": [
        "Slice a Sublist"
      ],
      "metadata": {
        "id": "szhZpTA6jLAF"
      }
    },
    {
      "cell_type": "code",
      "source": [
        "def get_sublist(lst, start, end):\n",
        "    \"\"\"Returns a sublist from start to end (inclusive).\"\"\"\n",
        "    return lst[start:end+1]  # +1 to include end index\n",
        "\n",
        "# Example usage\n",
        "numbers = [1, 2, 3, 4, 5, 6]\n",
        "print(get_sublist(numbers, 2, 4))\n"
      ],
      "metadata": {
        "colab": {
          "base_uri": "https://localhost:8080/"
        },
        "id": "PjPjktbFjNIM",
        "outputId": "79a746c9-3cce-4aff-a19e-84577b94ce34"
      },
      "execution_count": null,
      "outputs": [
        {
          "output_type": "stream",
          "name": "stdout",
          "text": [
            "[3, 4, 5]\n"
          ]
        }
      ]
    },
    {
      "cell_type": "markdown",
      "source": [
        "Reverse a List Using Slicing"
      ],
      "metadata": {
        "id": "1qscrTpvjVES"
      }
    },
    {
      "cell_type": "code",
      "source": [
        "def reverse_list(lst):\n",
        "    \"\"\"Returns a reversed list using slicing.\"\"\"\n",
        "    return lst[::-1]\n",
        "\n",
        "# Example usage\n",
        "numbers = [1, 2, 3, 4, 5]\n",
        "print(reverse_list(numbers))\n"
      ],
      "metadata": {
        "colab": {
          "base_uri": "https://localhost:8080/"
        },
        "id": "dLhTYXx8jXJ5",
        "outputId": "c8c8a9c6-0d10-4372-facd-5189b78b8ed5"
      },
      "execution_count": null,
      "outputs": [
        {
          "output_type": "stream",
          "name": "stdout",
          "text": [
            "[5, 4, 3, 2, 1]\n"
          ]
        }
      ]
    },
    {
      "cell_type": "markdown",
      "source": [
        "Remove the First and Last Elements"
      ],
      "metadata": {
        "id": "uZrbE0QUja16"
      }
    },
    {
      "cell_type": "code",
      "source": [
        "def remove_first_last(lst):\n",
        "    \"\"\"Removes the first and last elements from the list.\"\"\"\n",
        "    return lst[1:-1]\n",
        "\n",
        "# Example usage\n",
        "numbers = [1, 2, 3, 4, 5]\n",
        "print(remove_first_last(numbers))\n"
      ],
      "metadata": {
        "colab": {
          "base_uri": "https://localhost:8080/"
        },
        "id": "tUaWu_F_jbfA",
        "outputId": "bc66456f-44e3-447d-d26c-7dc9d24933c5"
      },
      "execution_count": null,
      "outputs": [
        {
          "output_type": "stream",
          "name": "stdout",
          "text": [
            "[2, 3, 4]\n"
          ]
        }
      ]
    },
    {
      "cell_type": "markdown",
      "source": [
        "Get the First n Elements"
      ],
      "metadata": {
        "id": "cDBgcRi4jfn-"
      }
    },
    {
      "cell_type": "code",
      "source": [
        "def get_first_n(lst, n):\n",
        "    \"\"\"Returns the first n elements of the list.\"\"\"\n",
        "    return lst[:n]\n",
        "\n",
        "# Example usage\n",
        "numbers = [1, 2, 3, 4, 5]\n",
        "print(get_first_n(numbers, 3))\n"
      ],
      "metadata": {
        "colab": {
          "base_uri": "https://localhost:8080/"
        },
        "id": "ucA4_aYqjhZE",
        "outputId": "63a0c306-6677-49c0-ab70-a245ba0cf25f"
      },
      "execution_count": null,
      "outputs": [
        {
          "output_type": "stream",
          "name": "stdout",
          "text": [
            "[1, 2, 3]\n"
          ]
        }
      ]
    },
    {
      "cell_type": "markdown",
      "source": [
        "Extract Elements from the End"
      ],
      "metadata": {
        "id": "Dou8_p4ZjkNx"
      }
    },
    {
      "cell_type": "code",
      "source": [
        "def get_last_n(lst, n):\n",
        "    \"\"\"Returns the last n elements of the list.\"\"\"\n",
        "    return lst[-n:]\n",
        "\n",
        "# Example usage\n",
        "numbers = [1, 2, 3, 4, 5]\n",
        "print(get_last_n(numbers, 2))\n"
      ],
      "metadata": {
        "colab": {
          "base_uri": "https://localhost:8080/"
        },
        "id": "HWl72pA1jmAy",
        "outputId": "c9b176ad-d940-40ba-f59a-f10917311f89"
      },
      "execution_count": null,
      "outputs": [
        {
          "output_type": "stream",
          "name": "stdout",
          "text": [
            "[4, 5]\n"
          ]
        }
      ]
    },
    {
      "cell_type": "markdown",
      "source": [
        "Extract Elements in Reverse Order"
      ],
      "metadata": {
        "id": "Hgk4RLmnjp5q"
      }
    },
    {
      "cell_type": "code",
      "source": [
        "def reverse_skip(lst):\n",
        "    \"\"\"Returns every second element in reverse order starting from the second-to-last element.\"\"\"\n",
        "    return lst[-2::-2]\n",
        "\n",
        "# Example usage\n",
        "numbers = [1, 2, 3, 4, 5, 6]\n",
        "print(reverse_skip(numbers))\n"
      ],
      "metadata": {
        "colab": {
          "base_uri": "https://localhost:8080/"
        },
        "id": "6SZoR4swjrif",
        "outputId": "888ee534-aa81-4592-a616-589faf32eaf1"
      },
      "execution_count": null,
      "outputs": [
        {
          "output_type": "stream",
          "name": "stdout",
          "text": [
            "[5, 3, 1]\n"
          ]
        }
      ]
    },
    {
      "cell_type": "markdown",
      "source": [
        "1. Flatten a Nested List:\n",
        " Write a Python function that takes a nested list and flattens it into a single list, where all the elements\n",
        " are in a single dimension."
      ],
      "metadata": {
        "id": "rw4Lo8EikmRL"
      }
    },
    {
      "cell_type": "code",
      "source": [
        "def flatten(lst):\n",
        "    \"\"\"Flattens a nested list into a single list.\"\"\"\n",
        "    flat_list = []\n",
        "    for sublist in lst:\n",
        "        if isinstance(sublist, list):  # Check if the element is a list\n",
        "            flat_list.extend(flatten(sublist))  # Recursively flatten\n",
        "        else:\n",
        "            flat_list.append(sublist)\n",
        "    return flat_list\n",
        "\n",
        "# Example usage\n",
        "nested_list = [[1, 2], [3, 4], [5]]\n",
        "print(flatten(nested_list))\n"
      ],
      "metadata": {
        "colab": {
          "base_uri": "https://localhost:8080/"
        },
        "id": "Ue6rpc7OknHX",
        "outputId": "5b5d8bbd-760c-4922-eefb-86ccd18c2188"
      },
      "execution_count": null,
      "outputs": [
        {
          "output_type": "stream",
          "name": "stdout",
          "text": [
            "[1, 2, 3, 4, 5]\n"
          ]
        }
      ]
    },
    {
      "cell_type": "markdown",
      "source": [
        " 2. Accessing Nested List Elements:\n",
        " Write a Python function that extracts a specific element from a nested list given its indices."
      ],
      "metadata": {
        "id": "5q4oVfe2kxyW"
      }
    },
    {
      "cell_type": "code",
      "source": [
        "def access_nested_element(lst, indices):\n",
        "    \"\"\"Returns the element at the given indices in a nested list.\"\"\"\n",
        "    element = lst\n",
        "    for index in indices:\n",
        "        element = element[index]\n",
        "    return element\n",
        "\n",
        "# Example usage\n",
        "nested_list = [[1, 2, 3], [4, 5, 6], [7, 8, 9]]\n",
        "print(access_nested_element(nested_list, [1, 2]))"
      ],
      "metadata": {
        "colab": {
          "base_uri": "https://localhost:8080/"
        },
        "id": "dNDKtqs6k0I4",
        "outputId": "aae71345-21a9-4fa1-9e64-68991e43b728"
      },
      "execution_count": null,
      "outputs": [
        {
          "output_type": "stream",
          "name": "stdout",
          "text": [
            "6\n"
          ]
        }
      ]
    },
    {
      "cell_type": "markdown",
      "source": [
        "3. Sum of All Elements in a Nested List:\n",
        " Write a Python function that calculates the sum of all the numbers in a nested list (regardless of depth)."
      ],
      "metadata": {
        "id": "sqHNkMfjk4Rr"
      }
    },
    {
      "cell_type": "code",
      "source": [
        "def sum_nested(lst):\n",
        "    \"\"\"Returns the sum of all numbers in a nested list.\"\"\"\n",
        "    return sum(flatten(lst))  # Use flatten function from earlier\n",
        "\n",
        "# Example usage\n",
        "nested_list = [[1, 2], [3, [4, 5]], 6]\n",
        "print(sum_nested(nested_list))\n"
      ],
      "metadata": {
        "colab": {
          "base_uri": "https://localhost:8080/"
        },
        "id": "FLHf5Wyfk48O",
        "outputId": "540f13b4-f5d8-417b-a3b0-c1c828fb0b89"
      },
      "execution_count": null,
      "outputs": [
        {
          "output_type": "stream",
          "name": "stdout",
          "text": [
            "21\n"
          ]
        }
      ]
    },
    {
      "cell_type": "markdown",
      "source": [
        "4. Remove Specific Element from a Nested List:\n",
        " Write a Python function that removes all occurrences of a specific element from a nested list."
      ],
      "metadata": {
        "id": "K4cJGGwblBQ1"
      }
    },
    {
      "cell_type": "code",
      "source": [
        "def remove_element(lst, elem):\n",
        "    \"\"\"Removes all occurrences of a specific element from a nested list.\"\"\"\n",
        "    if isinstance(lst, list):\n",
        "        return [remove_element(x, elem) for x in lst if x != elem]\n",
        "    return lst\n",
        "\n",
        "# Example usage\n",
        "nested_list = [[1, 2], [3, 2], [4, 5]]\n",
        "print(remove_element(nested_list, 2))\n"
      ],
      "metadata": {
        "colab": {
          "base_uri": "https://localhost:8080/"
        },
        "id": "YILjIDkulCgE",
        "outputId": "773fc6a2-daf1-43c7-c93d-b2518ff602d3"
      },
      "execution_count": null,
      "outputs": [
        {
          "output_type": "stream",
          "name": "stdout",
          "text": [
            "[[1], [3], [4, 5]]\n"
          ]
        }
      ]
    },
    {
      "cell_type": "markdown",
      "source": [
        " 5. Find the Maximum Element in a Nested List:\n",
        " Write a Python function that finds the maximum element in a nested list (regardless of depth)."
      ],
      "metadata": {
        "id": "5-gjhE7xlKRO"
      }
    },
    {
      "cell_type": "code",
      "source": [
        "def find_max(lst):\n",
        "    \"\"\"Returns the maximum element in a nested list.\"\"\"\n",
        "    return max(flatten(lst))  # Use flatten function\n",
        "\n",
        "\n",
        "nested_list = [[1, 2], [3, [4, 5]], 6]\n",
        "print(find_max(nested_list))\n"
      ],
      "metadata": {
        "colab": {
          "base_uri": "https://localhost:8080/"
        },
        "id": "gbNFJJiNlU9Q",
        "outputId": "567ef9a2-6382-41da-f25b-4ae4ccadea82"
      },
      "execution_count": null,
      "outputs": [
        {
          "output_type": "stream",
          "name": "stdout",
          "text": [
            "6\n"
          ]
        }
      ]
    },
    {
      "cell_type": "markdown",
      "source": [
        " 6. Count Occurrences of an Element in a Nested List:\n",
        " Write a Python function that counts how many times a specific element appears in a nested list."
      ],
      "metadata": {
        "id": "8LFO4E11lUrD"
      }
    },
    {
      "cell_type": "code",
      "source": [
        "def count_occurrences(lst, elem):\n",
        "    \"\"\"Counts occurrences of an element in a nested list.\"\"\"\n",
        "    return flatten(lst).count(elem)  # Use flatten function\n",
        "\n",
        "\n",
        "nested_list = [[1, 2], [2, 3], [2, 4]]\n",
        "print(count_occurrences(nested_list, 2))\n"
      ],
      "metadata": {
        "colab": {
          "base_uri": "https://localhost:8080/"
        },
        "id": "zZUPLVQUlMqT",
        "outputId": "c779a5c3-4641-42d6-f4b7-5ae56affbe47"
      },
      "execution_count": null,
      "outputs": [
        {
          "output_type": "stream",
          "name": "stdout",
          "text": [
            "3\n"
          ]
        }
      ]
    },
    {
      "cell_type": "markdown",
      "source": [
        "7. Flatten a List of Lists of Lists:\n",
        " Write a Python function that flattens a list of lists of lists into a single list, regardless of the depth."
      ],
      "metadata": {
        "id": "6IuI-lXAlfHy"
      }
    },
    {
      "cell_type": "code",
      "source": [
        "def deep_flatten(lst):\n",
        "    \"\"\"Flattens a deeply nested list into a single list.\"\"\"\n",
        "    return flatten(lst)  # Use the same flatten function\n",
        "\n",
        "\n",
        "nested_list = [[[1, 2], [3, 4]], [[5, 6], [7, 8]]]\n",
        "print(deep_flatten(nested_list))\n"
      ],
      "metadata": {
        "colab": {
          "base_uri": "https://localhost:8080/"
        },
        "id": "lnv51DAWliSY",
        "outputId": "50f49ef9-5407-441a-d8bd-6aee767912e0"
      },
      "execution_count": null,
      "outputs": [
        {
          "output_type": "stream",
          "name": "stdout",
          "text": [
            "[1, 2, 3, 4, 5, 6, 7, 8]\n"
          ]
        }
      ]
    },
    {
      "cell_type": "markdown",
      "source": [
        " 8. Nested List Average:\n",
        " Write a Python function that calculates the average of all elements in a nested list."
      ],
      "metadata": {
        "id": "pSlyjHdAlnsL"
      }
    },
    {
      "cell_type": "code",
      "source": [
        "def average_nested(lst):\n",
        "    \"\"\"Returns the average of all numbers in a nested list.\"\"\"\n",
        "    flat_list = flatten(lst)\n",
        "    return sum(flat_list) / len(flat_list) if flat_list else 0\n",
        "\n",
        "\n",
        "nested_list = [[1, 2], [3, 4], [5, 6]]\n",
        "print(average_nested(nested_list))\n"
      ],
      "metadata": {
        "colab": {
          "base_uri": "https://localhost:8080/"
        },
        "id": "kmeDoInclpql",
        "outputId": "be248dbc-9aa9-4016-f7e0-1f26d5535070"
      },
      "execution_count": null,
      "outputs": [
        {
          "output_type": "stream",
          "name": "stdout",
          "text": [
            "3.5\n"
          ]
        }
      ]
    },
    {
      "cell_type": "markdown",
      "source": [
        "To- Do- NumPy\n",
        " Basic Vector and Matrix Operation with Numpy."
      ],
      "metadata": {
        "id": "sDzUb9YmmQJq"
      }
    },
    {
      "cell_type": "markdown",
      "source": [
        " Problem- 1: Array Creation:\n",
        " Complete the following Tasks:\n",
        " 1. Initialize an empty array with size 2X2.\n",
        " 2. Initialize an all one array with size 4X2.\n",
        " 3. Return a new array of given shape and type, filled with fill value.{Hint: np.full}\n",
        " 4. Return a new array of zeros with same shape and type as a given array.{Hint: np.zeros like}\n",
        " 5. Return a new array of ones with same shape and type as a given array.{Hint: np.ones like}\n",
        " 6. For an existing list new_list = [1,2,3,4] convert to an numpy array.{Hint: np.array()}"
      ],
      "metadata": {
        "id": "gIIqtNMvmVns"
      }
    },
    {
      "cell_type": "code",
      "source": [
        "import numpy as np\n",
        "empty_array = np.empty((2, 2))\n",
        "print(\"Empty Array:\\n\", empty_array)\n",
        "\n",
        "ones_array = np.ones((4, 2))\n",
        "print(\"All Ones Array:\\n\", ones_array)\n",
        "\n",
        "filled_array = np.full((3, 3), 7)  # Example fill value of 7\n",
        "print(\"Filled Array:\\n\", filled_array)\n",
        "\n",
        "reference_array = np.array([[1, 2, 3], [4, 5, 6]])\n",
        "zeros_like_array = np.zeros_like(reference_array)\n",
        "print(\"Zeros Like Array:\\n\", zeros_like_array)\n",
        "\n",
        "ones_like_array = np.ones_like(reference_array)\n",
        "print(\"Ones Like Array:\\n\", ones_like_array)\n",
        "\n",
        "new_list = [1, 2, 3, 4]\n",
        "numpy_array = np.array(new_list)\n",
        "print(\"Numpy Array from List:\\n\", numpy_array)"
      ],
      "metadata": {
        "colab": {
          "base_uri": "https://localhost:8080/"
        },
        "id": "J5eptXAsna9I",
        "outputId": "01fdc3e0-fdd6-4966-ed1c-7b0ae1b3957b"
      },
      "execution_count": null,
      "outputs": [
        {
          "output_type": "stream",
          "name": "stdout",
          "text": [
            "Empty Array:\n",
            " [[2.0291767e-316 0.0000000e+000]\n",
            " [1.3351129e-306 2.2727020e-322]]\n",
            "All Ones Array:\n",
            " [[1. 1.]\n",
            " [1. 1.]\n",
            " [1. 1.]\n",
            " [1. 1.]]\n",
            "Filled Array:\n",
            " [[7 7 7]\n",
            " [7 7 7]\n",
            " [7 7 7]]\n",
            "Zeros Like Array:\n",
            " [[0 0 0]\n",
            " [0 0 0]]\n",
            "Ones Like Array:\n",
            " [[1 1 1]\n",
            " [1 1 1]]\n",
            "Numpy Array from List:\n",
            " [1 2 3 4]\n"
          ]
        }
      ]
    },
    {
      "cell_type": "markdown",
      "source": [
        " Problem- 2: Array Manipulation: Numerical Ranges and Array indexing:\n",
        " Complete the following tasks:\n",
        " 1. Create an array with values ranging from 10 to 49. {Hint:np.arrange()}.\n",
        " 2. Create a 3X3 matrix with values ranging from 0 to 8.\n",
        " {Hint:look for np.reshape()}\n",
        " 3. Create a 3X3 identity matrix.{Hint:np.eye()}\n",
        " 4. Create a random array of size 30 and find the mean of the array.\n",
        " {Hint:check for np.random.random() and array.mean() function}\n",
        " 5. Create a 10X10 array with random values and find the minimum and maximum values.\n",
        " 6. Create a zero array of size 10 and replace 5th element with 1.\n",
        " 7. Reverse an array arr = [1,2,0,0,4,0].\n",
        " 8. Create a 2d array with 1 on border and 0 inside.\n",
        " 9. Create a 8X8 matrix and fill it with a checkerboard pattern."
      ],
      "metadata": {
        "id": "ryAJ5_nCn9Oi"
      }
    },
    {
      "cell_type": "code",
      "source": [
        "array_range = np.arange(10, 50)\n",
        "print(\"Array from 10 to 49:\\n\", array_range)\n"
      ],
      "metadata": {
        "colab": {
          "base_uri": "https://localhost:8080/"
        },
        "id": "8L2HHeJ7oA9G",
        "outputId": "524d6dbf-1b28-4235-fc0b-ef7b9482b2e4"
      },
      "execution_count": null,
      "outputs": [
        {
          "output_type": "stream",
          "name": "stdout",
          "text": [
            "Array from 10 to 49:\n",
            " [10 11 12 13 14 15 16 17 18 19 20 21 22 23 24 25 26 27 28 29 30 31 32 33\n",
            " 34 35 36 37 38 39 40 41 42 43 44 45 46 47 48 49]\n"
          ]
        }
      ]
    },
    {
      "cell_type": "code",
      "source": [
        "matrix_3x3 = np.arange(9).reshape(3, 3)\n",
        "print(\"3x3 Matrix:\\n\", matrix_3x3)"
      ],
      "metadata": {
        "colab": {
          "base_uri": "https://localhost:8080/"
        },
        "id": "YpT9wA0kokDL",
        "outputId": "c06e05a3-f5b2-47b1-9c49-1a56aa08df53"
      },
      "execution_count": null,
      "outputs": [
        {
          "output_type": "stream",
          "name": "stdout",
          "text": [
            "3x3 Matrix:\n",
            " [[0 1 2]\n",
            " [3 4 5]\n",
            " [6 7 8]]\n"
          ]
        }
      ]
    },
    {
      "cell_type": "code",
      "source": [
        "identity_matrix = np.eye(3)\n",
        "print(\"3x3 Identity Matrix:\\n\", identity_matrix)"
      ],
      "metadata": {
        "colab": {
          "base_uri": "https://localhost:8080/"
        },
        "id": "CR1m2_F3omkD",
        "outputId": "108bd9d0-ae8f-4ef9-c3bb-7154e4455b57"
      },
      "execution_count": null,
      "outputs": [
        {
          "output_type": "stream",
          "name": "stdout",
          "text": [
            "3x3 Identity Matrix:\n",
            " [[1. 0. 0.]\n",
            " [0. 1. 0.]\n",
            " [0. 0. 1.]]\n"
          ]
        }
      ]
    },
    {
      "cell_type": "code",
      "source": [
        "random_array = np.random.random(30)\n",
        "mean_value = random_array.mean()\n",
        "print(\"Random Array Mean:\\n\", mean_value)"
      ],
      "metadata": {
        "colab": {
          "base_uri": "https://localhost:8080/"
        },
        "id": "XOUa6M2dosHF",
        "outputId": "7ff23dd5-b631-4dd2-f83a-2ed7c4f25add"
      },
      "execution_count": null,
      "outputs": [
        {
          "output_type": "stream",
          "name": "stdout",
          "text": [
            "Random Array Mean:\n",
            " 0.4927701297949021\n"
          ]
        }
      ]
    },
    {
      "cell_type": "code",
      "source": [
        "random_10x10 = np.random.random((10, 10))\n",
        "min_value = random_10x10.min()\n",
        "max_value = random_10x10.max()\n",
        "print(\"Random 10x10 Array:\")\n",
        "print(random_10x10)\n",
        "print(\"10x10 Random Array Min:\", min_value)\n",
        "print(\"10x10 Random Array Max:\", max_value)"
      ],
      "metadata": {
        "colab": {
          "base_uri": "https://localhost:8080/"
        },
        "id": "vbvtHacdouxW",
        "outputId": "f2bc3bf5-02b4-4c2f-92be-98b421c3f8f5"
      },
      "execution_count": null,
      "outputs": [
        {
          "output_type": "stream",
          "name": "stdout",
          "text": [
            "Random 10x10 Array:\n",
            "[[0.17530903 0.74274105 0.93757952 0.42132681 0.21507895 0.77372893\n",
            "  0.85219665 0.58590268 0.12473504 0.25363509]\n",
            " [0.75620711 0.20974255 0.07766223 0.98493893 0.35644009 0.71026684\n",
            "  0.97414416 0.40565576 0.80002264 0.33575569]\n",
            " [0.33973073 0.5047246  0.70683313 0.64387888 0.27932814 0.00403978\n",
            "  0.28114806 0.34704842 0.12903729 0.61944637]\n",
            " [0.91408706 0.87092037 0.33235343 0.89083362 0.62452791 0.79555711\n",
            "  0.17480809 0.74048401 0.15576453 0.88735703]\n",
            " [0.50840028 0.67976037 0.78562987 0.95802968 0.14371157 0.53246806\n",
            "  0.04135459 0.52315935 0.72363825 0.4438687 ]\n",
            " [0.64804064 0.58094752 0.62645437 0.94358787 0.78932736 0.56567938\n",
            "  0.7518714  0.39222494 0.0456429  0.63367477]\n",
            " [0.00244679 0.34284492 0.34776709 0.22427063 0.27419392 0.73811654\n",
            "  0.36563211 0.59224442 0.77005326 0.39083358]\n",
            " [0.18682512 0.68318206 0.73342959 0.54464919 0.73507141 0.19127193\n",
            "  0.36687135 0.98057223 0.82122526 0.05569119]\n",
            " [0.34042958 0.73559681 0.52244592 0.15434513 0.77921902 0.74644716\n",
            "  0.72885845 0.68847868 0.02511172 0.21228318]\n",
            " [0.9475038  0.99638028 0.91121578 0.36305424 0.57166936 0.80704491\n",
            "  0.55813889 0.39921764 0.67909639 0.45521245]]\n",
            "10x10 Random Array Min: 0.00244679107677237\n",
            "10x10 Random Array Max: 0.9963802831975765\n"
          ]
        }
      ]
    },
    {
      "cell_type": "code",
      "source": [
        "zero_array = np.zeros(10)\n",
        "zero_array[4] = 1  # Replace the 5th element (index 4)\n",
        "print(\"Zero Array with 5th Element Replaced:\\n\", zero_array)"
      ],
      "metadata": {
        "colab": {
          "base_uri": "https://localhost:8080/"
        },
        "id": "Nmkwaa91oxXZ",
        "outputId": "23899254-4bbd-449b-d69b-e5e2cab67e40"
      },
      "execution_count": null,
      "outputs": [
        {
          "output_type": "stream",
          "name": "stdout",
          "text": [
            "Zero Array with 5th Element Replaced:\n",
            " [0. 0. 0. 0. 1. 0. 0. 0. 0. 0.]\n"
          ]
        }
      ]
    },
    {
      "cell_type": "code",
      "source": [
        "arr = np.array([1, 2, 0, 0, 4, 0])\n",
        "reversed_arr = arr[::-1]\n",
        "print(\"Reversed Array:\\n\", reversed_arr)"
      ],
      "metadata": {
        "colab": {
          "base_uri": "https://localhost:8080/"
        },
        "id": "1-x2yU1Ho2nC",
        "outputId": "7fe8d924-6f5c-4ad6-a8d0-28a725378af7"
      },
      "execution_count": null,
      "outputs": [
        {
          "output_type": "stream",
          "name": "stdout",
          "text": [
            "Reversed Array:\n",
            " [0 4 0 0 2 1]\n"
          ]
        }
      ]
    },
    {
      "cell_type": "code",
      "source": [
        "border_array = np.ones((5, 5))\n",
        "border_array[1:-1, 1:-1] = 0\n",
        "print(\"2D Array with Border of 1s:\\n\", border_array)"
      ],
      "metadata": {
        "colab": {
          "base_uri": "https://localhost:8080/"
        },
        "id": "kAZs9Coxo5KL",
        "outputId": "ec2cbb9a-b451-4585-bc40-7254e8bc9e67"
      },
      "execution_count": null,
      "outputs": [
        {
          "output_type": "stream",
          "name": "stdout",
          "text": [
            "2D Array with Border of 1s:\n",
            " [[1. 1. 1. 1. 1.]\n",
            " [1. 0. 0. 0. 1.]\n",
            " [1. 0. 0. 0. 1.]\n",
            " [1. 0. 0. 0. 1.]\n",
            " [1. 1. 1. 1. 1.]]\n"
          ]
        }
      ]
    },
    {
      "cell_type": "code",
      "source": [
        "checkerboard = np.zeros((8, 8))\n",
        "checkerboard[1::2, ::2] = 1\n",
        "checkerboard[::2, 1::2] = 1\n",
        "print(\"Checkerboard Pattern:\\n\", checkerboard)"
      ],
      "metadata": {
        "colab": {
          "base_uri": "https://localhost:8080/"
        },
        "id": "_v8mSaQuo6nJ",
        "outputId": "fa9b0280-a28b-4e36-a14c-9ae8135ec3bb"
      },
      "execution_count": null,
      "outputs": [
        {
          "output_type": "stream",
          "name": "stdout",
          "text": [
            "Checkerboard Pattern:\n",
            " [[0. 1. 0. 1. 0. 1. 0. 1.]\n",
            " [1. 0. 1. 0. 1. 0. 1. 0.]\n",
            " [0. 1. 0. 1. 0. 1. 0. 1.]\n",
            " [1. 0. 1. 0. 1. 0. 1. 0.]\n",
            " [0. 1. 0. 1. 0. 1. 0. 1.]\n",
            " [1. 0. 1. 0. 1. 0. 1. 0.]\n",
            " [0. 1. 0. 1. 0. 1. 0. 1.]\n",
            " [1. 0. 1. 0. 1. 0. 1. 0.]]\n"
          ]
        }
      ]
    },
    {
      "cell_type": "markdown",
      "source": [
        " Problem- 3: Array Operations:\n",
        " For the following arrays:\n",
        " x = np.array([[1,2],[3,5]]) and y = np.array([[5,6],[7,8]]);\n",
        " v = np.array([9,10]) and w = np.array([11,12]);\n",
        " Complete all the task using numpy:\n",
        " 1. Add the two array.\n",
        " 2. Subtract the two array.\n",
        " 3. Multiply the array with any integers of your choice.\n",
        " 4. Find the square of each element of the array.\n",
        " 5. Find the dot product between: v(and)w ; x(and)v ; x(and)y.\n",
        " 6. Concatenate x(and)y along row and Concatenate v(and)w along column.\n",
        " {Hint:try np.concatenate() or np.vstack() functions.\n",
        " 7. Concatenate x(and)v; if you get an error, observe and explain why did you get the error?"
      ],
      "metadata": {
        "id": "JG87oUFopCP8"
      }
    },
    {
      "cell_type": "markdown",
      "source": [
        "Given the arrays:"
      ],
      "metadata": {
        "id": "ALbu_PewpL5q"
      }
    },
    {
      "cell_type": "code",
      "source": [
        "x = np.array([[1, 2], [3, 5]])\n",
        "y = np.array([[5, 6], [7, 8]])\n",
        "v = np.array([9, 10])\n",
        "w = np.array([11, 12])"
      ],
      "metadata": {
        "id": "9DzhzwXgpDJe"
      },
      "execution_count": null,
      "outputs": []
    },
    {
      "cell_type": "code",
      "source": [
        "sum_array = x + y\n",
        "print(\"Sum of x and y:\\n\", sum_array)"
      ],
      "metadata": {
        "colab": {
          "base_uri": "https://localhost:8080/"
        },
        "id": "O5DJYytZpS0_",
        "outputId": "a39c530a-7279-45c2-8cb7-9e3613a069a3"
      },
      "execution_count": null,
      "outputs": [
        {
          "output_type": "stream",
          "name": "stdout",
          "text": [
            "Sum of x and y:\n",
            " [[ 6  8]\n",
            " [10 13]]\n"
          ]
        }
      ]
    },
    {
      "cell_type": "code",
      "source": [
        "diff_array = x - y\n",
        "print(\"Difference of x and y:\\n\", diff_array)"
      ],
      "metadata": {
        "colab": {
          "base_uri": "https://localhost:8080/"
        },
        "id": "Yi5uu2X1pVXz",
        "outputId": "f1247ff5-6004-401a-d6ca-0572d8e55c89"
      },
      "execution_count": null,
      "outputs": [
        {
          "output_type": "stream",
          "name": "stdout",
          "text": [
            "Difference of x and y:\n",
            " [[-4 -4]\n",
            " [-4 -3]]\n"
          ]
        }
      ]
    },
    {
      "cell_type": "code",
      "source": [
        "multiplied_array = x * 2\n",
        "print(\"x multiplied by 2:\\n\", multiplied_array)"
      ],
      "metadata": {
        "colab": {
          "base_uri": "https://localhost:8080/"
        },
        "id": "K78BeX_dpZNZ",
        "outputId": "9598858f-bdd6-4090-ac3a-8978e56b2622"
      },
      "execution_count": null,
      "outputs": [
        {
          "output_type": "stream",
          "name": "stdout",
          "text": [
            "x multiplied by 2:\n",
            " [[ 2  4]\n",
            " [ 6 10]]\n"
          ]
        }
      ]
    },
    {
      "cell_type": "code",
      "source": [
        "squared_array = np.square(x)\n",
        "print(\"Square of each element in x:\\n\", squared_array)"
      ],
      "metadata": {
        "colab": {
          "base_uri": "https://localhost:8080/"
        },
        "id": "3T4LYaRIpcQk",
        "outputId": "a8883309-df41-4b42-e542-cbf5e6170d75"
      },
      "execution_count": null,
      "outputs": [
        {
          "output_type": "stream",
          "name": "stdout",
          "text": [
            "Square of each element in x:\n",
            " [[ 1  4]\n",
            " [ 9 25]]\n"
          ]
        }
      ]
    },
    {
      "cell_type": "code",
      "source": [
        "dot_v_w = np.dot(v, w)\n",
        "dot_x_v = np.dot(x, v)\n",
        "dot_x_y = np.dot(x, y)\n",
        "print(\"Dot product of v and w:\", dot_v_w)\n",
        "print(\"Dot product of x and v:\\n\", dot_x_v)\n",
        "print(\"Dot product of x and y:\\n\", dot_x_y)"
      ],
      "metadata": {
        "colab": {
          "base_uri": "https://localhost:8080/"
        },
        "id": "-v1eos6kpfNJ",
        "outputId": "fc574912-e826-40a1-a009-2fdeadcae0b7"
      },
      "execution_count": null,
      "outputs": [
        {
          "output_type": "stream",
          "name": "stdout",
          "text": [
            "Dot product of v and w: 219\n",
            "Dot product of x and v:\n",
            " [29 77]\n",
            "Dot product of x and y:\n",
            " [[19 22]\n",
            " [50 58]]\n"
          ]
        }
      ]
    },
    {
      "cell_type": "code",
      "source": [
        "concatenated_xy = np.concatenate((x, y), axis=0)  # Along rows\n",
        "concatenated_vw = np.column_stack((v, w))  # Along columns\n",
        "print(\"Concatenated x and y along rows:\\n\", concatenated_xy)\n",
        "print(\"Concatenated v and w along columns:\\n\", concatenated_vw)"
      ],
      "metadata": {
        "colab": {
          "base_uri": "https://localhost:8080/"
        },
        "id": "macuc7D3phgj",
        "outputId": "8e234716-b3f4-4fde-d340-d605d62fed71"
      },
      "execution_count": null,
      "outputs": [
        {
          "output_type": "stream",
          "name": "stdout",
          "text": [
            "Concatenated x and y along rows:\n",
            " [[1 2]\n",
            " [3 5]\n",
            " [5 6]\n",
            " [7 8]]\n",
            "Concatenated v and w along columns:\n",
            " [[ 9 11]\n",
            " [10 12]]\n"
          ]
        }
      ]
    },
    {
      "cell_type": "code",
      "source": [
        "try:\n",
        "    concatenated_xv = np.concatenate((x, v))  # This will raise an error\n",
        "except ValueError as e:\n",
        "    print(\"Error encountered while concatenating x and v:\", e)"
      ],
      "metadata": {
        "colab": {
          "base_uri": "https://localhost:8080/"
        },
        "id": "2m92akQBpjof",
        "outputId": "75663150-f140-4ae5-9dce-b6f61b09d03e"
      },
      "execution_count": null,
      "outputs": [
        {
          "output_type": "stream",
          "name": "stdout",
          "text": [
            "Error encountered while concatenating x and v: all the input arrays must have same number of dimensions, but the array at index 0 has 2 dimension(s) and the array at index 1 has 1 dimension(s)\n"
          ]
        }
      ]
    },
    {
      "cell_type": "markdown",
      "source": [
        "Problem- 4: Matrix Operations:\n",
        " • For the following arrays:\n",
        " A = np.array([[3,4],[7,8]]) and B = np.array([[5,3],[2,1]]);\n",
        " Prove following with Numpy:\n",
        " 1. Prove A.A−1 = I.\n",
        " 2. Prove AB= BA.\n",
        " 3. Prove (AB)T = BTAT.\n",
        " • Solve the following system of Linear equation using Inverse Methods.\n",
        " 2x −3y+z =−1\n",
        " x −y+2z =−3\n",
        " 3x +y−z =9\n",
        " {Hint: First use Numpy array to represent the equation in Matrix form. Then Solve for: AX = B}\n",
        " • Now: solve the above equation using np.linalg.inv function.{Explore more about ”linalg” func\n",
        "tion of Numpy"
      ],
      "metadata": {
        "id": "yMKsw09Qp6sd"
      }
    },
    {
      "cell_type": "code",
      "source": [
        "# Define the matrix A\n",
        "A = np.array([[3, 4], [7, 8]])\n",
        "\n",
        "# Calculate the inverse of A\n",
        "A_inv = np.linalg.inv(A)\n",
        "\n",
        "# Multiply A by its inverse to get the identity matrix\n",
        "result = np.dot(A, A_inv)\n",
        "\n",
        "# Print the result\n",
        "print(\"A * A^-1 = \\n\", result)\n",
        "\n",
        "# Verify that the result is the identity matrix\n",
        "I = np.eye(2)  # Create a 2x2 identity matrix\n",
        "print(\"Identity matrix I = \\n\", I)\n",
        "\n",
        "# Check if the result is close to the identity matrix\n",
        "if np.allclose(result, I):\n",
        "    print(\"The result is the identity matrix, so A * A^-1 = I\")\n",
        "else:\n",
        "    print(\"The result is not the identity matrix\")"
      ],
      "metadata": {
        "colab": {
          "base_uri": "https://localhost:8080/"
        },
        "id": "kDPZbysdqBAr",
        "outputId": "b1a9ee80-fdb4-4610-a0c3-0e5486cdb38c"
      },
      "execution_count": null,
      "outputs": [
        {
          "output_type": "stream",
          "name": "stdout",
          "text": [
            "A * A^-1 = \n",
            " [[1.00000000e+00 0.00000000e+00]\n",
            " [1.77635684e-15 1.00000000e+00]]\n",
            "Identity matrix I = \n",
            " [[1. 0.]\n",
            " [0. 1.]]\n",
            "The result is the identity matrix, so A * A^-1 = I\n"
          ]
        }
      ]
    },
    {
      "cell_type": "code",
      "source": [
        "A = np.array([[3, 4], [7, 8]])\n",
        "B = np.array([[5, 3], [2, 1]])\n",
        "\n",
        "# Compute AB and BA\n",
        "AB = np.dot(A, B)\n",
        "BA = np.dot(B, A)\n",
        "\n",
        "# Print the results\n",
        "print(\"AB = \\n\", AB)\n",
        "print(\"BA = \\n\", BA)\n",
        "\n",
        "# Compare AB and BA\n",
        "if np.array_equal(AB, BA):\n",
        "    print(\"AB = BA\")\n",
        "else:\n",
        "    print(\"AB != BA\")"
      ],
      "metadata": {
        "colab": {
          "base_uri": "https://localhost:8080/"
        },
        "id": "fEuEWF2kqD9X",
        "outputId": "f12ad0a6-dba8-4284-a879-e79b25e1c413"
      },
      "execution_count": null,
      "outputs": [
        {
          "output_type": "stream",
          "name": "stdout",
          "text": [
            "AB = \n",
            " [[23 13]\n",
            " [51 29]]\n",
            "BA = \n",
            " [[36 44]\n",
            " [13 16]]\n",
            "AB != BA\n"
          ]
        }
      ]
    },
    {
      "cell_type": "code",
      "source": [
        "AB_transpose = np.transpose(np.dot(A, B))\n",
        "\n",
        "# Compute the product of the transposes B^T A^T\n",
        "B_transpose_A_transpose = np.dot(np.transpose(B), np.transpose(A))\n",
        "\n",
        "# Print both results\n",
        "print(\"(AB)^T = \\n\", AB_transpose)\n",
        "print(\"B^T A^T = \\n\", B_transpose_A_transpose)\n",
        "\n",
        "# Compare (AB)^T and B^T A^T\n",
        "if np.array_equal(AB_transpose, B_transpose_A_transpose):\n",
        "    print(\"(AB)^T = B^T A^T\")\n",
        "else:\n",
        "    print(\"(AB)^T != B^T A^T\")"
      ],
      "metadata": {
        "colab": {
          "base_uri": "https://localhost:8080/"
        },
        "id": "sFViQikgqGbr",
        "outputId": "523a3861-0565-4666-d3bb-4d49313fcf1b"
      },
      "execution_count": null,
      "outputs": [
        {
          "output_type": "stream",
          "name": "stdout",
          "text": [
            "(AB)^T = \n",
            " [[23 51]\n",
            " [13 29]]\n",
            "B^T A^T = \n",
            " [[23 51]\n",
            " [13 29]]\n",
            "(AB)^T = B^T A^T\n"
          ]
        }
      ]
    },
    {
      "cell_type": "code",
      "source": [
        "import numpy as np\n",
        "\n",
        "# Coefficient matrix A\n",
        "A = np.array([[2, -3, 1],\n",
        "              [1, -1, 2],\n",
        "              [3, 1, -1]])\n",
        "\n",
        "# Constants matrix B\n",
        "B = np.array([[-1], [-3], [9]])\n",
        "\n",
        "# Calculate the inverse of matrix A\n",
        "A_inv = np.linalg.inv(A)\n",
        "\n",
        "# Solve for X (which contains x, y, z)\n",
        "X = np.dot(A_inv, B)\n",
        "\n",
        "# Print the solution\n",
        "print(\"The solution is:\")\n",
        "print(\"x =\", X[0][0])\n",
        "print(\"y =\", X[1][0])\n",
        "print(\"z =\", X[2][0])\n"
      ],
      "metadata": {
        "colab": {
          "base_uri": "https://localhost:8080/"
        },
        "id": "GDVHQAjvqI86",
        "outputId": "ddf5a98e-3f0f-4632-f089-c0954434cc7c"
      },
      "execution_count": null,
      "outputs": [
        {
          "output_type": "stream",
          "name": "stdout",
          "text": [
            "The solution is:\n",
            "x = 2.0\n",
            "y = 1.0\n",
            "z = -2.0\n"
          ]
        }
      ]
    },
    {
      "cell_type": "code",
      "source": [
        "# Coefficient matrix A\n",
        "A = np.array([[2, -3, 1],\n",
        "              [1, -1, 2],\n",
        "              [3, 1, -1]])\n",
        "\n",
        "# Constants matrix B\n",
        "B = np.array([[-1], [-3], [9]])\n",
        "\n",
        "# Calculate the inverse of matrix A using np.linalg.inv\n",
        "A_inv = np.linalg.inv(A)\n",
        "\n",
        "# Solve for X (which contains x, y, z) using matrix multiplication\n",
        "X = np.dot(A_inv, B)\n",
        "\n",
        "# Print the solution\n",
        "print(\"The solution is:\")\n",
        "print(\"x =\", X[0][0])\n",
        "print(\"y =\", X[1][0])\n",
        "print(\"z =\", X[2][0])"
      ],
      "metadata": {
        "colab": {
          "base_uri": "https://localhost:8080/"
        },
        "id": "GGTgO3cHqMp6",
        "outputId": "69a320d5-46b3-485e-8c20-5e029ec360e6"
      },
      "execution_count": null,
      "outputs": [
        {
          "output_type": "stream",
          "name": "stdout",
          "text": [
            "The solution is:\n",
            "x = 2.0\n",
            "y = 1.0\n",
            "z = -2.0\n"
          ]
        }
      ]
    },
    {
      "cell_type": "markdown",
      "source": [
        "10.2 Experiment: How Fast is Numpy?\n",
        "1. Element-wise Addition"
      ],
      "metadata": {
        "id": "a6_mYvYYOR4H"
      }
    },
    {
      "cell_type": "code",
      "source": [
        "import time\n",
        "import random\n",
        "\n",
        "# Generate two lists of size 1,000,000 with random values\n",
        "size = 1_000_000\n",
        "list1 = [random.randint(1, 100) for _ in range(size)]\n",
        "list2 = [random.randint(1, 100) for _ in range(size)]\n",
        "\n",
        "# Measure time taken for element-wise addition using list comprehension\n",
        "start_time = time.time()\n",
        "result = [list1[i] + list2[i] for i in range(size)]\n",
        "end_time = time.time()\n",
        "\n",
        "# Print time taken\n",
        "print(f\"Time taken for element-wise addition using Python lists: {end_time - start_time:.6f} seconds\")\n",
        "\n"
      ],
      "metadata": {
        "colab": {
          "base_uri": "https://localhost:8080/"
        },
        "id": "T4Kf3n22qO7h",
        "outputId": "39e523f5-ed30-42d1-d985-50a025c545e9"
      },
      "execution_count": null,
      "outputs": [
        {
          "output_type": "stream",
          "name": "stdout",
          "text": [
            "Time taken for element-wise addition using Python lists: 0.055912 seconds\n"
          ]
        }
      ]
    },
    {
      "cell_type": "code",
      "source": [
        "import numpy as np\n",
        "import time\n",
        "\n",
        "# Generate two NumPy arrays of size 1,000,000 with random values\n",
        "size = 1_000_000\n",
        "array1 = np.random.randint(1, 100, size)\n",
        "array2 = np.random.randint(1, 100, size)\n",
        "\n",
        "# Measure time taken for element-wise addition using NumPy\n",
        "start_time = time.time()\n",
        "result = array1 + array2  # Vectorized addition\n",
        "end_time = time.time()\n",
        "\n",
        "# Print time taken\n",
        "print(f\"Time taken for element-wise addition using NumPy: {end_time - start_time:.6f} seconds\")\n"
      ],
      "metadata": {
        "colab": {
          "base_uri": "https://localhost:8080/"
        },
        "id": "-qqpuZ-gOPcS",
        "outputId": "478e8cf1-7cc4-46b3-814a-9e7a77d0f719"
      },
      "execution_count": null,
      "outputs": [
        {
          "output_type": "stream",
          "name": "stdout",
          "text": [
            "Time taken for element-wise addition using NumPy: 0.013236 seconds\n"
          ]
        }
      ]
    },
    {
      "cell_type": "markdown",
      "source": [
        "2. Element-wise Multiplication"
      ],
      "metadata": {
        "id": "plR_qqccOfrW"
      }
    },
    {
      "cell_type": "code",
      "source": [
        "size = 1_000_000\n",
        "list1 = [random.randint(1, 100) for _ in range(size)]\n",
        "list2 = [random.randint(1, 100) for _ in range(size)]\n",
        "\n",
        "# Measure time taken for element-wise multiplication using list comprehension\n",
        "start_time = time.time()\n",
        "result = [list1[i] * list2[i] for i in range(size)]\n",
        "end_time = time.time()\n",
        "\n",
        "# Print time taken\n",
        "print(f\"Time taken for element-wise multiplication using Python lists: {end_time - start_time:.6f} seconds\")"
      ],
      "metadata": {
        "colab": {
          "base_uri": "https://localhost:8080/"
        },
        "id": "UWuX4tN4OgUw",
        "outputId": "c5192bc1-e76b-4a24-ec81-6ffe70e177b4"
      },
      "execution_count": null,
      "outputs": [
        {
          "output_type": "stream",
          "name": "stdout",
          "text": [
            "Time taken for element-wise multiplication using Python lists: 0.120865 seconds\n"
          ]
        }
      ]
    },
    {
      "cell_type": "code",
      "source": [
        "size = 1_000_000\n",
        "array1 = np.random.randint(1, 100, size)\n",
        "array2 = np.random.randint(1, 100, size)\n",
        "\n",
        "# Measure time taken for element-wise multiplication using NumPy\n",
        "start_time = time.time()\n",
        "result = array1 * array2  # Vectorized multiplication\n",
        "end_time = time.time()\n",
        "\n",
        "# Print time taken\n",
        "print(f\"Time taken for element-wise multiplication using NumPy: {end_time - start_time:.6f} seconds\")"
      ],
      "metadata": {
        "colab": {
          "base_uri": "https://localhost:8080/"
        },
        "id": "k-_JlE-aOmhE",
        "outputId": "c508aead-7f50-42b8-f5b3-27b5a34b12a5"
      },
      "execution_count": null,
      "outputs": [
        {
          "output_type": "stream",
          "name": "stdout",
          "text": [
            "Time taken for element-wise multiplication using NumPy: 0.004813 seconds\n"
          ]
        }
      ]
    },
    {
      "cell_type": "markdown",
      "source": [
        "3. Dot Product"
      ],
      "metadata": {
        "id": "Ci5UrirWOolb"
      }
    },
    {
      "cell_type": "code",
      "source": [
        "# Generate two lists of size 1,000,000 with random values\n",
        "size = 1_000_000\n",
        "list1 = [random.randint(1, 100) for _ in range(size)]\n",
        "list2 = [random.randint(1, 100) for _ in range(size)]\n",
        "\n",
        "# Measure time taken for dot product using Python lists\n",
        "start_time = time.time()\n",
        "dot_product = sum(list1[i] * list2[i] for i in range(size))  # Manual dot product\n",
        "end_time = time.time()\n",
        "\n",
        "# Print time taken\n",
        "print(f\"Dot product using Python lists: {dot_product}\")\n",
        "print(f\"Time taken using Python lists: {end_time - start_time:.6f} seconds\")"
      ],
      "metadata": {
        "colab": {
          "base_uri": "https://localhost:8080/"
        },
        "id": "LJzU_-N5OrE1",
        "outputId": "a0092be6-22b0-4877-ceb6-a34e03dc720f"
      },
      "execution_count": null,
      "outputs": [
        {
          "output_type": "stream",
          "name": "stdout",
          "text": [
            "Dot product using Python lists: 2547132217\n",
            "Time taken using Python lists: 0.097936 seconds\n"
          ]
        }
      ]
    },
    {
      "cell_type": "code",
      "source": [
        "size = 1_000_000\n",
        "array1 = np.random.randint(1, 100, size)\n",
        "array2 = np.random.randint(1, 100, size)\n",
        "\n",
        "# Measure time taken for dot product using NumPy\n",
        "start_time = time.time()\n",
        "dot_product = np.dot(array1, array2)  # Optimized NumPy dot product\n",
        "end_time = time.time()\n",
        "\n",
        "# Print time taken\n",
        "print(f\"Dot product using NumPy: {dot_product}\")\n",
        "print(f\"Time taken using NumPy: {end_time - start_time:.6f} seconds\")"
      ],
      "metadata": {
        "colab": {
          "base_uri": "https://localhost:8080/"
        },
        "id": "8lwdJ9hYOtha",
        "outputId": "ace71a0d-10ab-498a-d916-1e63b740f6b9"
      },
      "execution_count": null,
      "outputs": [
        {
          "output_type": "stream",
          "name": "stdout",
          "text": [
            "Dot product using NumPy: 2502390292\n",
            "Time taken using NumPy: 0.001752 seconds\n"
          ]
        }
      ]
    },
    {
      "cell_type": "markdown",
      "source": [
        "4. Matrix Multiplication"
      ],
      "metadata": {
        "id": "sTWNYM7_OxCz"
      }
    },
    {
      "cell_type": "code",
      "source": [
        "size = 1000\n",
        "matrix1 = np.random.randint(1, 10, (size, size))\n",
        "matrix2 = np.random.randint(1, 10, (size, size))\n",
        "\n",
        "# Measure time taken for matrix multiplication using NumPy\n",
        "start_time = time.time()\n",
        "result = np.dot(matrix1, matrix2)  # Optimized NumPy matrix multiplication\n",
        "end_time = time.time()\n",
        "\n",
        "# Print time taken\n",
        "print(f\"Time taken for matrix multiplication using NumPy: {end_time - start_time:.6f} seconds\")"
      ],
      "metadata": {
        "colab": {
          "base_uri": "https://localhost:8080/"
        },
        "id": "rgMaEyWzOzNP",
        "outputId": "5f264f9b-3acb-4168-ef27-55b3aac075c7"
      },
      "execution_count": null,
      "outputs": [
        {
          "output_type": "stream",
          "name": "stdout",
          "text": [
            "Time taken for matrix multiplication using NumPy: 1.838282 seconds\n"
          ]
        }
      ]
    },
    {
      "cell_type": "code",
      "source": [
        "import time\n",
        "import random\n",
        "\n",
        "# Function to perform matrix multiplication for Python lists\n",
        "def matrix_multiply_python(matrix1, matrix2):\n",
        "    result = []\n",
        "    for i in range(len(matrix1)):  # Iterate over rows of matrix1\n",
        "        row = []\n",
        "        for j in range(len(matrix2[0])):  # Iterate over columns of matrix2\n",
        "            value = sum(matrix1[i][k] * matrix2[k][j] for k in range(len(matrix2)))\n",
        "            row.append(value)\n",
        "        result.append(row)\n",
        "    return result\n",
        "\n",
        "# Generate two matrices of size 1000x1000 with random values\n",
        "size = 1000\n",
        "matrix1 = [[random.randint(1, 10) for _ in range(size)] for _ in range(size)]\n",
        "matrix2 = [[random.randint(1, 10) for _ in range(size)] for _ in range(size)]\n",
        "\n",
        "# Measure time taken for matrix multiplication using Python lists\n",
        "start_time = time.time()\n",
        "result = matrix_multiply_python(matrix1, matrix2)\n",
        "end_time = time.time()\n",
        "\n",
        "# Print time taken\n",
        "print(f\"Time taken for matrix multiplication using Python lists: {end_time - start_time:.6f} seconds\")\n"
      ],
      "metadata": {
        "colab": {
          "base_uri": "https://localhost:8080/"
        },
        "id": "UMHOoOXOO4Hn",
        "outputId": "48d0d80f-5973-4523-d564-b503f4e15b21"
      },
      "execution_count": null,
      "outputs": [
        {
          "output_type": "stream",
          "name": "stdout",
          "text": [
            "Time taken for matrix multiplication using Python lists: 107.163234 seconds\n"
          ]
        }
      ]
    }
  ]
}